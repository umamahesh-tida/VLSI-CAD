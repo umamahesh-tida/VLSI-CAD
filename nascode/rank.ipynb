{
 "cells": [
  {
   "cell_type": "code",
   "execution_count": 91,
   "metadata": {},
   "outputs": [],
   "source": [
    "import pandas as pd\n",
    "from operator import itemgetter\n",
    "import numpy as np"
   ]
  },
  {
   "cell_type": "code",
   "execution_count": 95,
   "metadata": {},
   "outputs": [
    {
     "name": "stdout",
     "output_type": "stream",
     "text": [
      "<class 'list'>\n"
     ]
    }
   ],
   "source": [
    "import ast\n",
    "random_childs = pd.read_csv('Randomchilds.csv')\n",
    "random_childs['rewards'] = random_childs['rewards'].apply(eval)\n",
    "\n",
    "\n",
    "indices = (random_childs['rewards'][0])\n",
    "\n",
    "print(type(indices))\n",
    "# random_childs['rewards'].transform({f'reward{i+1}': itemgetter(i) for i in indices})\n",
    "\n",
    "random_childs[['20', '40', '60', '80', '100', '120', '140', '160', '180', '200', '220', '240', '260', '280', '300' ]] = random_childs['rewards'].tolist()\n",
    "random_childs['max'] = random_childs[['20', '40', '60', '80', '100', '120', '140', '160', '180', '200','220', '240', '260', '280', '300']].idxmax(axis=1)\n",
    "\n",
    "random_childs['tup'] = tuple(zip(random_childs['20'].rank(method='max', ascending=False), random_childs['40'].rank(method='max', ascending=False),random_childs['60'].rank(method='max', ascending=False),\n",
    "                                 random_childs['80'].rank(method='max', ascending=False), random_childs['100'].rank(method='max', ascending=False), random_childs['120'].rank(method='max', ascending=False),\n",
    "                                 random_childs['140'].rank(method='max', ascending=False), random_childs['160'].rank(method='max', ascending=False), random_childs['180'].rank(method='max', ascending=False),\n",
    "                                 random_childs['200'].rank(method='max', ascending=False), random_childs['220'].rank(method='max', ascending=False), random_childs['240'].rank(method='max', ascending=False),\n",
    "                                 random_childs['260'].rank(method='max', ascending=False), random_childs['280'].rank(method='max', ascending=False), random_childs['300'].rank(method='max', ascending=False)))\n",
    "\n",
    "random_childs.tup = random_childs.tup.apply(lambda x: list(x))\n",
    "random_childs[\"sum_rank\"] = random_childs['tup'].apply(np.sum)\n",
    "# random_childs['rank'] = random_childs['tup'].rank()\n",
    "sort_20_300 = random_childs.sort_values(by=['sum_rank'],  ascending= True)\n",
    "# sort_20['ranks'] = sort_20.index\n",
    "# sort_20.mode(axis ='columns')\n",
    "# sort_20.set_index(['rank_20'])\n",
    "\n",
    "# sorted_final=sort_20.sort_index()\n",
    "# sorted_final\n",
    "# random_childs\n",
    "\n",
    "# sort_20.to_csv(\"sorted.csv\")\n",
    "sort_20_300.to_excel(\"sorted_300_full.xlsx\")\n",
    "random_childs.to_csv(\"sorted_300_csv\")"
   ]
  },
  {
   "cell_type": "markdown",
   "metadata": {},
   "source": []
  }
 ],
 "metadata": {
  "kernelspec": {
   "display_name": "myenv",
   "language": "python",
   "name": "python3"
  },
  "language_info": {
   "codemirror_mode": {
    "name": "ipython",
    "version": 3
   },
   "file_extension": ".py",
   "mimetype": "text/x-python",
   "name": "python",
   "nbconvert_exporter": "python",
   "pygments_lexer": "ipython3",
   "version": "3.11.8"
  }
 },
 "nbformat": 4,
 "nbformat_minor": 2
}
